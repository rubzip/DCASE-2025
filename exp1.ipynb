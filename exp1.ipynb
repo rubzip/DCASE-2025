{
 "cells": [
  {
   "cell_type": "code",
   "execution_count": 1,
   "id": "b14c1b34",
   "metadata": {},
   "outputs": [],
   "source": [
    "from train import train\n",
    "\n",
    "from models.abstract_model import AbstractModel\n",
    "from models.classifiers.classifier1 import SimpleDNN\n",
    "from models.feature_extractors.VGGish200k32v1 import VGGish200k32\n",
    "\n",
    "from utils.dcase2025_dataset import DCASE2025Dataset\n",
    "from utils.torch_utils import evaluate_torch, reduce_dim\n",
    "from utils.metrics import macro_class_accuracy_avg"
   ]
  },
  {
   "cell_type": "code",
   "execution_count": 2,
   "id": "9b5491fd",
   "metadata": {},
   "outputs": [],
   "source": [
    "model = AbstractModel(\n",
    "    embedder=VGGish200k32(),\n",
    "    classifier=SimpleDNN()\n",
    ")"
   ]
  },
  {
   "cell_type": "code",
   "execution_count": 3,
   "id": "94d13788",
   "metadata": {},
   "outputs": [],
   "source": [
    "train_ds = DCASE2025Dataset.load(\"data/train.pt\")\n",
    "val_ds = DCASE2025Dataset.load(\"data/val.pt\")"
   ]
  },
  {
   "cell_type": "code",
   "execution_count": 4,
   "id": "e16a8280",
   "metadata": {},
   "outputs": [],
   "source": [
    "w_train, e_train, y_train = train_ds.mels, train_ds.embeddings, train_ds.scenes\n",
    "w_val, e_val, y_val = val_ds.mels, val_ds.embeddings, val_ds.scenes\n",
    "\n",
    "e_train_128, e_val_128, _ = reduce_dim(e_train, e_val, 128)"
   ]
  },
  {
   "cell_type": "code",
   "execution_count": 5,
   "id": "6528bda1",
   "metadata": {},
   "outputs": [],
   "source": [
    "assert len(w_train) == len(e_train) == len(y_train)\n",
    "assert len(w_val) == len(e_val) == len(y_val)\n",
    "\n",
    "assert w_val.shape[1:] == w_train.shape[1:]\n",
    "assert e_val_128.shape[1:] == e_train_128.shape[1:]\n",
    "assert y_val.shape[1:] == y_train.shape[1:]"
   ]
  },
  {
   "cell_type": "code",
   "execution_count": null,
   "id": "24397003",
   "metadata": {},
   "outputs": [],
   "source": [
    "model = train(model, \n",
    "              w_train, e_train_128, y_train,\n",
    "              w_val, e_val_128, y_val)"
   ]
  },
  {
   "cell_type": "code",
   "execution_count": null,
   "id": "95f906c4",
   "metadata": {},
   "outputs": [
    {
     "ename": "TypeError",
     "evalue": "expected Tensor as element 0 in argument 0, but got numpy.ndarray",
     "output_type": "error",
     "traceback": [
      "\u001b[31m---------------------------------------------------------------------------\u001b[39m",
      "\u001b[31mTypeError\u001b[39m                                 Traceback (most recent call last)",
      "\u001b[36mCell\u001b[39m\u001b[36m \u001b[39m\u001b[32mIn[7]\u001b[39m\u001b[32m, line 1\u001b[39m\n\u001b[32m----> \u001b[39m\u001b[32m1\u001b[39m y_val_p = \u001b[43mevaluate_torch\u001b[49m\u001b[43m(\u001b[49m\u001b[43mmodel\u001b[49m\u001b[43m.\u001b[49m\u001b[43mpredict\u001b[49m\u001b[43m,\u001b[49m\u001b[43m \u001b[49m\u001b[43mw_val\u001b[49m\u001b[43m)\u001b[49m\n\u001b[32m      2\u001b[39m results = macro_class_accuracy_avg(y_val, y_val_p)\n",
      "\u001b[36mFile \u001b[39m\u001b[32m~/Documentos/DCASE-2025/utils/torch_utils.py:35\u001b[39m, in \u001b[36mevaluate_torch\u001b[39m\u001b[34m(fun, tensor, batch_size)\u001b[39m\n\u001b[32m     32\u001b[39m         outputs = fun(*inputs)\n\u001b[32m     33\u001b[39m         all_outputs.append(outputs)\n\u001b[32m---> \u001b[39m\u001b[32m35\u001b[39m all_outputs_tensor = \u001b[43mtorch\u001b[49m\u001b[43m.\u001b[49m\u001b[43mcat\u001b[49m\u001b[43m(\u001b[49m\u001b[43mall_outputs\u001b[49m\u001b[43m,\u001b[49m\u001b[43m \u001b[49m\u001b[43mdim\u001b[49m\u001b[43m=\u001b[49m\u001b[32;43m0\u001b[39;49m\u001b[43m)\u001b[49m\n\u001b[32m     36\u001b[39m \u001b[38;5;28;01mreturn\u001b[39;00m all_outputs_tensor\n",
      "\u001b[31mTypeError\u001b[39m: expected Tensor as element 0 in argument 0, but got numpy.ndarray"
     ]
    }
   ],
   "source": [
    "y_val_p = evaluate_torch(model.predict, w_val)\n",
    "results = macro_class_accuracy_avg(y_val, y_val_p)"
   ]
  }
 ],
 "metadata": {
  "kernelspec": {
   "display_name": "base",
   "language": "python",
   "name": "python3"
  },
  "language_info": {
   "codemirror_mode": {
    "name": "ipython",
    "version": 3
   },
   "file_extension": ".py",
   "mimetype": "text/x-python",
   "name": "python",
   "nbconvert_exporter": "python",
   "pygments_lexer": "ipython3",
   "version": "3.12.9"
  }
 },
 "nbformat": 4,
 "nbformat_minor": 5
}
